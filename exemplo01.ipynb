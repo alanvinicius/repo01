{
  "nbformat": 4,
  "nbformat_minor": 0,
  "metadata": {
    "colab": {
      "name": "exemplo01.ipynb",
      "provenance": [],
      "collapsed_sections": [],
      "authorship_tag": "ABX9TyOGMIs3LHcH+RpjlSdEqST/",
      "include_colab_link": true
    },
    "kernelspec": {
      "name": "python3",
      "display_name": "Python 3"
    }
  },
  "cells": [
    {
      "cell_type": "markdown",
      "metadata": {
        "id": "view-in-github",
        "colab_type": "text"
      },
      "source": [
        "<a href=\"https://colab.research.google.com/github/alanvinicius/repo01/blob/master/exemplo01.ipynb\" target=\"_parent\"><img src=\"https://colab.research.google.com/assets/colab-badge.svg\" alt=\"Open In Colab\"/></a>"
      ]
    },
    {
      "cell_type": "markdown",
      "metadata": {
        "id": "UdEXTAdbwvT5",
        "colab_type": "text"
      },
      "source": [
        "### isso é um comando de saída\n",
        "print('Ola Mundo Cruel !!!')\n",
        "print('Cruel World!!!')\n",
        "\n",
        "# a hashtag é um comentario no codigo, ou seja, o programa não ira processar nenhuma linha marcada\n",
        "# o comando print() mostra na tela, ou seja, é uma saida de valor(es).\n",
        "# o conteúdo texto deve estar entre aspas (simples ou dupla)\n",
        "\n"
      ]
    },
    {
      "cell_type": "code",
      "metadata": {
        "id": "KRmIteVF5HHd",
        "colab_type": "code",
        "colab": {
          "base_uri": "https://localhost:8080/",
          "height": 34
        },
        "outputId": "5287c3fc-83db-42ba-aa3e-de9e842d8154"
      },
      "source": [
        "print('Alan', 'Vinicius', 'De', 'Melo', 'Bandeira')"
      ],
      "execution_count": 5,
      "outputs": [
        {
          "output_type": "stream",
          "text": [
            "Alan Vinicius De Melo Bandeira\n"
          ],
          "name": "stdout"
        }
      ]
    }
  ]
}