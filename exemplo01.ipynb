{
  "nbformat": 4,
  "nbformat_minor": 0,
  "metadata": {
    "colab": {
      "name": "exemplo01.ipynb",
      "provenance": [],
      "collapsed_sections": [],
      "authorship_tag": "ABX9TyP0CfP9vlwU8I0Z2zZr6rjB",
      "include_colab_link": true
    },
    "kernelspec": {
      "name": "python3",
      "display_name": "Python 3"
    }
  },
  "cells": [
    {
      "cell_type": "markdown",
      "metadata": {
        "id": "view-in-github",
        "colab_type": "text"
      },
      "source": [
        "<a href=\"https://colab.research.google.com/github/alanvinicius/repo01/blob/master/exemplo01.ipynb\" target=\"_parent\"><img src=\"https://colab.research.google.com/assets/colab-badge.svg\" alt=\"Open In Colab\"/></a>"
      ]
    },
    {
      "cell_type": "code",
      "metadata": {
        "id": "DfuES7qc9NJJ",
        "colab_type": "code",
        "colab": {}
      },
      "source": [
        "### isso é um comando de saída\n",
        "print('Ola Mundo Cruel !!!')\n",
        "print('Cruel World!!!')\n",
        "\n",
        "# a hashtag é um comentario no codigo, ou seja, o programa não ira processar nenhuma linha marcada\n",
        "# o comando print() mostra na tela, ou seja, é uma saida de valor(es).\n",
        "# o conteúdo texto deve estar entre aspas (simples ou dupla)"
      ],
      "execution_count": null,
      "outputs": []
    },
    {
      "cell_type": "code",
      "metadata": {
        "id": "KRmIteVF5HHd",
        "colab_type": "code",
        "colab": {}
      },
      "source": [
        "print('Alan', 'Vinicius', 'De', 'Melo', 'Bandeira')"
      ],
      "execution_count": null,
      "outputs": []
    }
  ]
}